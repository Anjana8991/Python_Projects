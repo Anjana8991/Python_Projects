{
 "cells": [
  {
   "cell_type": "code",
   "execution_count": null,
   "metadata": {},
   "outputs": [],
   "source": [
    "import os \n",
    "TASKS_FILE= \"tasks.txt\"\n",
    "def load_tasls():\n",
    "    if os.path.exists(TASKS_FILE):\n",
    "        with open(TASKS_FILE,\"r\") as file:\n",
    "            return [line.strip() for line in file.readlines()]\n",
    "        return []\n",
    "def save_tasks(tasks):\n",
    "    with open(TASKS_FILE,\"w\") as file:\n",
    "        for task in tasks:\n",
    "            file.write(task + \"\\n\")\n"
   ]
  }
 ],
 "metadata": {
  "language_info": {
   "name": "python"
  }
 },
 "nbformat": 4,
 "nbformat_minor": 2
}
