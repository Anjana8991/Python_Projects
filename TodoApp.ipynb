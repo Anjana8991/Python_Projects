{
 "cells": [
  {
   "cell_type": "code",
   "execution_count": null,
   "metadata": {},
   "outputs": [],
   "source": [
    "import os \n",
    "TASKS_FILE= \"tasks.txt\"\n",
    "def load_tasks():\n",
    "    if os.path.exists(TASKS_FILE):\n",
    "        with open(TASKS_FILE,\"r\") as file:\n",
    "            return [line.strip() for line in file.readlines()]\n",
    "    return []\n",
    "def save_tasks(tasks):\n",
    "    with open(TASKS_FILE,\"w\") as file:\n",
    "        for task in tasks:\n",
    "            file.write(task + \"\\n\")\n",
    "            \n",
    "def display_tasks(tasks):\n",
    "    if not tasks:\n",
    "        print(\"No tasks available\")\n",
    "    else:\n",
    "        print(\"\\nYour To-Do List:\")\n",
    "        for i, task in enumerate(tasks,1):\n",
    "            print(f\"{i}.{task}\" )\n",
    "            \n",
    "#Main function\n",
    "def todo_list():\n",
    "    tasks = load_tasks()\n",
    "    while True:\n",
    "        print(\"\\nTo-Do List App\")\n",
    "        print(\"1. Add Task\") \n",
    "        print(\"2. View Tasks\")\n",
    "        print(\"3. Remove Task\")\n",
    "        print(\"4. Save & Exit\")\n",
    "        choice = input(\"Enter your choice:\")  \n",
    "        if choice ==\"1\":\n",
    "            task = input(\"Enter task:\")\n",
    "            tasks.append(task)\n",
    "            print(f\"'{task}'added to the list.\")\n",
    "        elif choice == \"2\":\n",
    "            display_tasks(tasks)\n",
    "        elif choice == \"3\":\n",
    "            display_tasks(tasks)\n",
    "            try:\n",
    "                task_num = int(input(\"Enter the task number to remove:\")) - 1\n",
    "                if 0 <= task_num<len(tasks):\n",
    "                    removed_task = tasks.pop(task_num)\n",
    "                    print(f\"Removed:{removed_task}\")\n",
    "                else:\n",
    "                    print(\"Invalid task number!\")\n",
    "            except ValueError:\n",
    "                print(\"Please enter a valid number!\")\n",
    "        elif choice == \"4\":\n",
    "            save_tasks(tasks)\n",
    "            print(\"Tasks saved. Exiting.....\")\n",
    "            break\n",
    "        else:\n",
    "            print(\"Invalid choice !Please enter  a number from 1 to 4.\")\n",
    "            #Run the To-Do List App\n",
    "todo_list()\n",
    "                        "
   ]
  }
 ],
 "metadata": {
  "kernelspec": {
   "display_name": "Python 3",
   "language": "python",
   "name": "python3"
  },
  "language_info": {
   "codemirror_mode": {
    "name": "ipython",
    "version": 3
   },
   "file_extension": ".py",
   "mimetype": "text/x-python",
   "name": "python",
   "nbconvert_exporter": "python",
   "pygments_lexer": "ipython3",
   "version": "3.11.9"
  }
 },
 "nbformat": 4,
 "nbformat_minor": 2
}
