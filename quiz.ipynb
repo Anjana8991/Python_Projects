{
 "cells": [
  {
   "cell_type": "code",
   "execution_count": null,
   "metadata": {
    "vscode": {
     "languageId": "plaintext"
    }
   },
   "outputs": [],
   "source": [
    "#Simple quiz game for beginners\n",
    "name= input(\"Hello! What is your name?\")\n",
    "# Welcome message\n",
    "printf(f\"Welcome, {name}! Let's play a simple math quiz!\")\n",
    "#question 1"
   ]
  }
 ],
 "metadata": {
  "language_info": {
   "name": "python"
  }
 },
 "nbformat": 4,
 "nbformat_minor": 2
}
