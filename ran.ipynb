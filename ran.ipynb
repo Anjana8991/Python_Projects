{
 "cells": [
  {
   "cell_type": "code",
   "execution_count": null,
   "metadata": {},
   "outputs": [
    {
     "name": "stdout",
     "output_type": "stream",
     "text": [
      "Empty DataFrame\n",
      "Columns: []\n",
      "Index: []\n"
     ]
    },
    {
     "ename": "KeyError",
     "evalue": "'Cell ID'",
     "output_type": "error",
     "traceback": [
      "\u001b[1;31m---------------------------------------------------------------------------\u001b[0m",
      "\u001b[1;31mKeyError\u001b[0m                                  Traceback (most recent call last)",
      "Cell \u001b[1;32mIn[1], line 53\u001b[0m\n\u001b[0;32m     51\u001b[0m \u001b[38;5;66;03m# Plot the results\u001b[39;00m\n\u001b[0;32m     52\u001b[0m plt\u001b[38;5;241m.\u001b[39mfigure(figsize\u001b[38;5;241m=\u001b[39m(\u001b[38;5;241m8\u001b[39m, \u001b[38;5;241m5\u001b[39m))\n\u001b[1;32m---> 53\u001b[0m plt\u001b[38;5;241m.\u001b[39mbar(\u001b[43mdf\u001b[49m\u001b[43m[\u001b[49m\u001b[38;5;124;43m\"\u001b[39;49m\u001b[38;5;124;43mCell ID\u001b[39;49m\u001b[38;5;124;43m\"\u001b[39;49m\u001b[43m]\u001b[49m\u001b[38;5;241m.\u001b[39mastype(\u001b[38;5;28mstr\u001b[39m), df[\u001b[38;5;124m\"\u001b[39m\u001b[38;5;124mRSRP (dBm)\u001b[39m\u001b[38;5;124m\"\u001b[39m], color\u001b[38;5;241m=\u001b[39m[\u001b[38;5;124m'\u001b[39m\u001b[38;5;124mgreen\u001b[39m\u001b[38;5;124m'\u001b[39m \u001b[38;5;28;01mif\u001b[39;00m rsrp \u001b[38;5;241m>\u001b[39m\u001b[38;5;241m=\u001b[39m \u001b[38;5;241m-\u001b[39m\u001b[38;5;241m100\u001b[39m \u001b[38;5;28;01melse\u001b[39;00m \u001b[38;5;124m'\u001b[39m\u001b[38;5;124mred\u001b[39m\u001b[38;5;124m'\u001b[39m \u001b[38;5;28;01mfor\u001b[39;00m rsrp \u001b[38;5;129;01min\u001b[39;00m df[\u001b[38;5;124m\"\u001b[39m\u001b[38;5;124mRSRP (dBm)\u001b[39m\u001b[38;5;124m\"\u001b[39m]])\n\u001b[0;32m     54\u001b[0m plt\u001b[38;5;241m.\u001b[39mxlabel(\u001b[38;5;124m\"\u001b[39m\u001b[38;5;124mCell ID\u001b[39m\u001b[38;5;124m\"\u001b[39m)\n\u001b[0;32m     55\u001b[0m plt\u001b[38;5;241m.\u001b[39mylabel(\u001b[38;5;124m\"\u001b[39m\u001b[38;5;124mRSRP (dBm)\u001b[39m\u001b[38;5;124m\"\u001b[39m)\n",
      "File \u001b[1;32m~\\AppData\\Local\\Packages\\PythonSoftwareFoundation.Python.3.11_qbz5n2kfra8p0\\LocalCache\\local-packages\\Python311\\site-packages\\pandas\\core\\frame.py:4102\u001b[0m, in \u001b[0;36mDataFrame.__getitem__\u001b[1;34m(self, key)\u001b[0m\n\u001b[0;32m   4100\u001b[0m \u001b[38;5;28;01mif\u001b[39;00m \u001b[38;5;28mself\u001b[39m\u001b[38;5;241m.\u001b[39mcolumns\u001b[38;5;241m.\u001b[39mnlevels \u001b[38;5;241m>\u001b[39m \u001b[38;5;241m1\u001b[39m:\n\u001b[0;32m   4101\u001b[0m     \u001b[38;5;28;01mreturn\u001b[39;00m \u001b[38;5;28mself\u001b[39m\u001b[38;5;241m.\u001b[39m_getitem_multilevel(key)\n\u001b[1;32m-> 4102\u001b[0m indexer \u001b[38;5;241m=\u001b[39m \u001b[38;5;28;43mself\u001b[39;49m\u001b[38;5;241;43m.\u001b[39;49m\u001b[43mcolumns\u001b[49m\u001b[38;5;241;43m.\u001b[39;49m\u001b[43mget_loc\u001b[49m\u001b[43m(\u001b[49m\u001b[43mkey\u001b[49m\u001b[43m)\u001b[49m\n\u001b[0;32m   4103\u001b[0m \u001b[38;5;28;01mif\u001b[39;00m is_integer(indexer):\n\u001b[0;32m   4104\u001b[0m     indexer \u001b[38;5;241m=\u001b[39m [indexer]\n",
      "File \u001b[1;32m~\\AppData\\Local\\Packages\\PythonSoftwareFoundation.Python.3.11_qbz5n2kfra8p0\\LocalCache\\local-packages\\Python311\\site-packages\\pandas\\core\\indexes\\range.py:417\u001b[0m, in \u001b[0;36mRangeIndex.get_loc\u001b[1;34m(self, key)\u001b[0m\n\u001b[0;32m    415\u001b[0m         \u001b[38;5;28;01mraise\u001b[39;00m \u001b[38;5;167;01mKeyError\u001b[39;00m(key) \u001b[38;5;28;01mfrom\u001b[39;00m \u001b[38;5;21;01merr\u001b[39;00m\n\u001b[0;32m    416\u001b[0m \u001b[38;5;28;01mif\u001b[39;00m \u001b[38;5;28misinstance\u001b[39m(key, Hashable):\n\u001b[1;32m--> 417\u001b[0m     \u001b[38;5;28;01mraise\u001b[39;00m \u001b[38;5;167;01mKeyError\u001b[39;00m(key)\n\u001b[0;32m    418\u001b[0m \u001b[38;5;28mself\u001b[39m\u001b[38;5;241m.\u001b[39m_check_indexing_error(key)\n\u001b[0;32m    419\u001b[0m \u001b[38;5;28;01mraise\u001b[39;00m \u001b[38;5;167;01mKeyError\u001b[39;00m(key)\n",
      "\u001b[1;31mKeyError\u001b[0m: 'Cell ID'"
     ]
    },
    {
     "data": {
      "text/plain": [
       "<Figure size 800x500 with 0 Axes>"
      ]
     },
     "metadata": {},
     "output_type": "display_data"
    }
   ],
   "source": [
    "import re #regular expression for log extraction\n",
    "import pandas as pd\n",
    "import matplotlib.pyplot as plt\n",
    "# Sample RAN log data\n",
    "ran_logs = [\n",
    "    \"[2025-02-24 14:35:10] Cell ID: 1024, RSRP: -95 dBm, SINR: 10 dB, CQI: 12\",\n",
    "    \"[2025-02-24 14:35:11] Cell ID: 1025, RSRP: -110 dBm, SINR: 3 dB, CQI: 4\",\n",
    "    \"[2025-02-24 14:35:12] Cell ID: 1030, RSRP: -85 dBm, SINR: 15 dB, CQI: 15\",\n",
    "    \"[2025-02-24 14:35:13] Cell ID: 1027, RSRP: -108 dBm, SINR: 2 dB, CQI: 3\"\n",
    "]\n",
    "RSRP_THRESHOLD = -100 #dBm\n",
    "SINR_THRESHOLD = 5 #dB\n",
    "CQI_THRESHOLD = 5\n",
    "def analyze_ran_logs(logs):\n",
    "    results = []\n",
    "    for log in logs:\n",
    "       match = re.search(r\"Cell ID: (\\d+), RSRP: (-\\d+) dBm, SINR: (\\d+) dB, CQI: (\\d+)\", log)\n",
    "\n",
    "       if match:\n",
    "            cell_id = int(match.group(1))\n",
    "            rsrp = int(match.group(2))\n",
    "            sinr = int(match.group(3))\n",
    "            cqi = int(match.group(4))\n",
    "            warnings = []\n",
    "            if rsrp<RSRP_THRESHOLD:\n",
    "                warnings.append(f\"Weak Signal (RSRP:{rsrp} dBm)\")\n",
    "                if sinr<SINR_THRESHOLD:\n",
    "                          warnings.append(f\"High Interference (SINR: {sinr} dB)\")\n",
    "            if cqi < CQI_THRESHOLD:\n",
    "                warnings.append(f\"Poor Channel Quality (CQI: {cqi})\")\n",
    "\n",
    "            # Store results\n",
    "            results.append({\n",
    "                \"Cell ID\": cell_id,\n",
    "                \"RSRP (dBm)\": rsrp,\n",
    "                \"SINR (dB)\": sinr,\n",
    "                \"CQI\": cqi,\n",
    "                \"Warnings\": \", \".join(warnings) if warnings else \"Good Performance\"\n",
    "            })\n",
    "\n",
    "    return results\n",
    "\n",
    "# Analyze the logs\n",
    "ran_analysis_results = analyze_ran_logs(ran_logs)\n",
    "\n",
    "# Convert results to DataFrame for easy viewing\n",
    "df = pd.DataFrame(ran_analysis_results)\n",
    "\n",
    "# Print the DataFrame\n",
    "print(df)\n",
    "\n",
    "# Plot the results\n",
    "plt.figure(figsize=(8, 5))\n",
    "plt.bar(df[\"Cell ID\"].astype(str), df[\"RSRP (dBm)\"], color=['green' if rsrp >= -100 else 'red' for rsrp in df[\"RSRP (dBm)\"]])\n",
    "plt.xlabel(\"Cell ID\")\n",
    "plt.ylabel(\"RSRP (dBm)\")\n",
    "plt.title(\"RAN Signal Strength per Cell\")\n",
    "plt.axhline(y=-100, color='r', linestyle='--', label=\"Weak Signal Threshold\")\n",
    "plt.legend()\n",
    "plt.show()"
   ]
  }
 ],
 "metadata": {
  "kernelspec": {
   "display_name": "Python 3",
   "language": "python",
   "name": "python3"
  },
  "language_info": {
   "codemirror_mode": {
    "name": "ipython",
    "version": 3
   },
   "file_extension": ".py",
   "mimetype": "text/x-python",
   "name": "python",
   "nbconvert_exporter": "python",
   "pygments_lexer": "ipython3",
   "version": "3.11.9"
  }
 },
 "nbformat": 4,
 "nbformat_minor": 2
}
